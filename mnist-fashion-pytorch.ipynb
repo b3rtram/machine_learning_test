{
  "cells": [
    {
      "cell_type": "markdown",
      "source": [
        "First try for a MNIST fashion learning\n",
        "\n",
        "Load MNIST Fashion datasets"
      ],
      "metadata": {
        "id": "KC2GI0UtRc4d"
      },
      "id": "KC2GI0UtRc4d"
    },
    {
      "cell_type": "code",
      "execution_count": 1,
      "id": "6caad819",
      "metadata": {
        "id": "6caad819",
        "outputId": "698d4948-a542-4cbc-c417-1bb19b927765",
        "colab": {
          "base_uri": "https://localhost:8080/",
          "height": 341,
          "referenced_widgets": [
            "08154ef5dd424793b8ace8e0905df9df",
            "04a06b5e916f427fb9e85ba40d700f9e",
            "fc4afb8ab83a4431b1418b86a9ec318a",
            "9f84e330a95d45b9bb1b5e19fbc758d3",
            "def288affe504aadb4c4cbb7c8c3ed59",
            "9d765abfb7b649cb9dd0cc6cc7ce8435",
            "fd112354aeab444d85ad5df9bf1c4c70",
            "fd8cf402d8fc48058f3c9a5bab3e1a55",
            "c952f485023c426d8bac5d5ad187fa82",
            "a3fdf04147334f4ebeb7332eab3101e0",
            "6764a0dc43e54045a7a273d0ade3c6f9"
          ]
        }
      },
      "outputs": [
        {
          "output_type": "stream",
          "name": "stdout",
          "text": [
            "Downloading http://fashion-mnist.s3-website.eu-central-1.amazonaws.com/train-images-idx3-ubyte.gz\n",
            "Using downloaded and verified file: ./fashionMnist/FashionMNIST/raw/train-images-idx3-ubyte.gz\n",
            "Extracting ./fashionMnist/FashionMNIST/raw/train-images-idx3-ubyte.gz to ./fashionMnist/FashionMNIST/raw\n",
            "\n",
            "Downloading http://fashion-mnist.s3-website.eu-central-1.amazonaws.com/train-labels-idx1-ubyte.gz\n",
            "Using downloaded and verified file: ./fashionMnist/FashionMNIST/raw/train-labels-idx1-ubyte.gz\n",
            "Extracting ./fashionMnist/FashionMNIST/raw/train-labels-idx1-ubyte.gz to ./fashionMnist/FashionMNIST/raw\n",
            "\n",
            "Downloading http://fashion-mnist.s3-website.eu-central-1.amazonaws.com/t10k-images-idx3-ubyte.gz\n",
            "Using downloaded and verified file: ./fashionMnist/FashionMNIST/raw/t10k-images-idx3-ubyte.gz\n",
            "Extracting ./fashionMnist/FashionMNIST/raw/t10k-images-idx3-ubyte.gz to ./fashionMnist/FashionMNIST/raw\n",
            "\n",
            "Downloading http://fashion-mnist.s3-website.eu-central-1.amazonaws.com/t10k-labels-idx1-ubyte.gz\n",
            "Downloading http://fashion-mnist.s3-website.eu-central-1.amazonaws.com/t10k-labels-idx1-ubyte.gz to ./fashionMnist/FashionMNIST/raw/t10k-labels-idx1-ubyte.gz\n"
          ]
        },
        {
          "output_type": "display_data",
          "data": {
            "application/vnd.jupyter.widget-view+json": {
              "model_id": "08154ef5dd424793b8ace8e0905df9df",
              "version_minor": 0,
              "version_major": 2
            },
            "text/plain": [
              "  0%|          | 0/5148 [00:00<?, ?it/s]"
            ]
          },
          "metadata": {}
        },
        {
          "output_type": "stream",
          "name": "stdout",
          "text": [
            "Extracting ./fashionMnist/FashionMNIST/raw/t10k-labels-idx1-ubyte.gz to ./fashionMnist/FashionMNIST/raw\n",
            "\n"
          ]
        }
      ],
      "source": [
        "import torch\n",
        "import numpy as np\n",
        "\n",
        "from torchvision import datasets, transforms\n",
        "\n",
        "transform = transforms.ToTensor()\n",
        "trainMnist = datasets.FashionMNIST(\"./fashionMnist\", download=True, train=True, transform = transform)\n",
        "testMnist = datasets.FashionMNIST(\"./fashionMnist\", download=True, train=False, transform=transform)"
      ]
    },
    {
      "cell_type": "markdown",
      "source": [
        "Show tensor data of first "
      ],
      "metadata": {
        "id": "POyOQcABRzxw"
      },
      "id": "POyOQcABRzxw"
    },
    {
      "cell_type": "code",
      "execution_count": 3,
      "id": "f5432f85",
      "metadata": {
        "scrolled": true,
        "id": "f5432f85",
        "outputId": "1a754dd6-bec1-430e-de5b-bdd8bc107cba",
        "colab": {
          "base_uri": "https://localhost:8080/"
        }
      },
      "outputs": [
        {
          "output_type": "stream",
          "name": "stdout",
          "text": [
            "tensor([[0.0000, 0.0000, 0.0000, 0.0000, 0.0000, 0.0000, 0.0000, 0.0000, 0.0000,\n",
            "         0.0000, 0.0000, 0.0000, 0.0000, 0.0000, 0.0000, 0.0000, 0.0000, 0.0000,\n",
            "         0.0000, 0.0000, 0.0000, 0.0000, 0.0000, 0.0000, 0.0000, 0.0000, 0.0000,\n",
            "         0.0000, 0.0000, 0.0000, 0.0000, 0.0000, 0.0000, 0.0000, 0.0000, 0.0000,\n",
            "         0.0000, 0.0000, 0.0000, 0.0000, 0.0000, 0.0000, 0.0000, 0.0000, 0.0000,\n",
            "         0.0000, 0.0000, 0.0000, 0.0000, 0.0000, 0.0000, 0.0000, 0.0000, 0.0000,\n",
            "         0.0000, 0.0000, 0.0000, 0.0000, 0.0000, 0.0000, 0.0000, 0.0000, 0.0000,\n",
            "         0.0000, 0.0000, 0.0000, 0.0000, 0.0000, 0.0000, 0.0000, 0.0000, 0.0000,\n",
            "         0.0000, 0.0000, 0.0000, 0.0000, 0.0000, 0.0000, 0.0000, 0.0000, 0.0000,\n",
            "         0.0000, 0.0000, 0.0000, 0.0000, 0.0000, 0.0000, 0.0000, 0.0000, 0.0000,\n",
            "         0.0000, 0.0000, 0.0000, 0.0000, 0.0000, 0.0000, 0.0039, 0.0000, 0.0000,\n",
            "         0.0510, 0.2863, 0.0000, 0.0000, 0.0039, 0.0157, 0.0000, 0.0000, 0.0000,\n",
            "         0.0000, 0.0039, 0.0039, 0.0000, 0.0000, 0.0000, 0.0000, 0.0000, 0.0000,\n",
            "         0.0000, 0.0000, 0.0000, 0.0000, 0.0000, 0.0000, 0.0000, 0.0118, 0.0000,\n",
            "         0.1412, 0.5333, 0.4980, 0.2431, 0.2118, 0.0000, 0.0000, 0.0000, 0.0039,\n",
            "         0.0118, 0.0157, 0.0000, 0.0000, 0.0118, 0.0000, 0.0000, 0.0000, 0.0000,\n",
            "         0.0000, 0.0000, 0.0000, 0.0000, 0.0000, 0.0000, 0.0000, 0.0000, 0.0235,\n",
            "         0.0000, 0.4000, 0.8000, 0.6902, 0.5255, 0.5647, 0.4824, 0.0902, 0.0000,\n",
            "         0.0000, 0.0000, 0.0000, 0.0471, 0.0392, 0.0000, 0.0000, 0.0000, 0.0000,\n",
            "         0.0000, 0.0000, 0.0000, 0.0000, 0.0000, 0.0000, 0.0000, 0.0000, 0.0000,\n",
            "         0.0000, 0.0000, 0.6078, 0.9255, 0.8118, 0.6980, 0.4196, 0.6118, 0.6314,\n",
            "         0.4275, 0.2510, 0.0902, 0.3020, 0.5098, 0.2824, 0.0588, 0.0000, 0.0000,\n",
            "         0.0000, 0.0000, 0.0000, 0.0000, 0.0000, 0.0000, 0.0000, 0.0000, 0.0000,\n",
            "         0.0039, 0.0000, 0.2706, 0.8118, 0.8745, 0.8549, 0.8471, 0.8471, 0.6392,\n",
            "         0.4980, 0.4745, 0.4784, 0.5725, 0.5529, 0.3451, 0.6745, 0.2588, 0.0000,\n",
            "         0.0000, 0.0000, 0.0000, 0.0000, 0.0000, 0.0000, 0.0000, 0.0000, 0.0039,\n",
            "         0.0039, 0.0039, 0.0000, 0.7843, 0.9098, 0.9098, 0.9137, 0.8980, 0.8745,\n",
            "         0.8745, 0.8431, 0.8353, 0.6431, 0.4980, 0.4824, 0.7686, 0.8980, 0.0000,\n",
            "         0.0000, 0.0000, 0.0000, 0.0000, 0.0000, 0.0000, 0.0000, 0.0000, 0.0000,\n",
            "         0.0000, 0.0000, 0.0000, 0.0000, 0.7176, 0.8824, 0.8471, 0.8745, 0.8941,\n",
            "         0.9216, 0.8902, 0.8784, 0.8706, 0.8784, 0.8667, 0.8745, 0.9608, 0.6784,\n",
            "         0.0000, 0.0000, 0.0000, 0.0000, 0.0000, 0.0000, 0.0000, 0.0000, 0.0000,\n",
            "         0.0000, 0.0000, 0.0000, 0.0000, 0.0000, 0.7569, 0.8941, 0.8549, 0.8353,\n",
            "         0.7765, 0.7059, 0.8314, 0.8235, 0.8275, 0.8353, 0.8745, 0.8627, 0.9529,\n",
            "         0.7922, 0.0000, 0.0000, 0.0000, 0.0000, 0.0000, 0.0000, 0.0000, 0.0000,\n",
            "         0.0000, 0.0000, 0.0039, 0.0118, 0.0000, 0.0471, 0.8588, 0.8627, 0.8314,\n",
            "         0.8549, 0.7529, 0.6627, 0.8902, 0.8157, 0.8549, 0.8784, 0.8314, 0.8863,\n",
            "         0.7725, 0.8196, 0.2039, 0.0000, 0.0000, 0.0000, 0.0000, 0.0000, 0.0000,\n",
            "         0.0000, 0.0000, 0.0000, 0.0000, 0.0235, 0.0000, 0.3882, 0.9569, 0.8706,\n",
            "         0.8627, 0.8549, 0.7961, 0.7765, 0.8667, 0.8431, 0.8353, 0.8706, 0.8627,\n",
            "         0.9608, 0.4667, 0.6549, 0.2196, 0.0000, 0.0000, 0.0000, 0.0000, 0.0000,\n",
            "         0.0000, 0.0000, 0.0000, 0.0000, 0.0157, 0.0000, 0.0000, 0.2157, 0.9255,\n",
            "         0.8941, 0.9020, 0.8941, 0.9412, 0.9098, 0.8353, 0.8549, 0.8745, 0.9176,\n",
            "         0.8510, 0.8510, 0.8196, 0.3608, 0.0000, 0.0000, 0.0000, 0.0039, 0.0157,\n",
            "         0.0235, 0.0275, 0.0078, 0.0000, 0.0000, 0.0000, 0.0000, 0.0000, 0.9294,\n",
            "         0.8863, 0.8510, 0.8745, 0.8706, 0.8588, 0.8706, 0.8667, 0.8471, 0.8745,\n",
            "         0.8980, 0.8431, 0.8549, 1.0000, 0.3020, 0.0000, 0.0000, 0.0118, 0.0000,\n",
            "         0.0000, 0.0000, 0.0000, 0.0000, 0.0000, 0.0000, 0.2431, 0.5686, 0.8000,\n",
            "         0.8941, 0.8118, 0.8353, 0.8667, 0.8549, 0.8157, 0.8275, 0.8549, 0.8784,\n",
            "         0.8745, 0.8588, 0.8431, 0.8784, 0.9569, 0.6235, 0.0000, 0.0000, 0.0000,\n",
            "         0.0000, 0.0000, 0.0706, 0.1725, 0.3216, 0.4196, 0.7412, 0.8941, 0.8627,\n",
            "         0.8706, 0.8510, 0.8863, 0.7843, 0.8039, 0.8275, 0.9020, 0.8784, 0.9176,\n",
            "         0.6902, 0.7373, 0.9804, 0.9725, 0.9137, 0.9333, 0.8431, 0.0000, 0.0000,\n",
            "         0.2235, 0.7333, 0.8157, 0.8784, 0.8667, 0.8784, 0.8157, 0.8000, 0.8392,\n",
            "         0.8157, 0.8196, 0.7843, 0.6235, 0.9608, 0.7569, 0.8078, 0.8745, 1.0000,\n",
            "         1.0000, 0.8667, 0.9176, 0.8667, 0.8275, 0.8627, 0.9098, 0.9647, 0.0000,\n",
            "         0.0118, 0.7922, 0.8941, 0.8784, 0.8667, 0.8275, 0.8275, 0.8392, 0.8039,\n",
            "         0.8039, 0.8039, 0.8627, 0.9412, 0.3137, 0.5882, 1.0000, 0.8980, 0.8667,\n",
            "         0.7373, 0.6039, 0.7490, 0.8235, 0.8000, 0.8196, 0.8706, 0.8941, 0.8824,\n",
            "         0.0000, 0.3843, 0.9137, 0.7765, 0.8235, 0.8706, 0.8980, 0.8980, 0.9176,\n",
            "         0.9765, 0.8627, 0.7608, 0.8431, 0.8510, 0.9451, 0.2549, 0.2863, 0.4157,\n",
            "         0.4588, 0.6588, 0.8588, 0.8667, 0.8431, 0.8510, 0.8745, 0.8745, 0.8784,\n",
            "         0.8980, 0.1137, 0.2941, 0.8000, 0.8314, 0.8000, 0.7569, 0.8039, 0.8275,\n",
            "         0.8824, 0.8471, 0.7255, 0.7725, 0.8078, 0.7765, 0.8353, 0.9412, 0.7647,\n",
            "         0.8902, 0.9608, 0.9373, 0.8745, 0.8549, 0.8314, 0.8196, 0.8706, 0.8627,\n",
            "         0.8667, 0.9020, 0.2627, 0.1882, 0.7961, 0.7176, 0.7608, 0.8353, 0.7725,\n",
            "         0.7255, 0.7451, 0.7608, 0.7529, 0.7922, 0.8392, 0.8588, 0.8667, 0.8627,\n",
            "         0.9255, 0.8824, 0.8471, 0.7804, 0.8078, 0.7294, 0.7098, 0.6941, 0.6745,\n",
            "         0.7098, 0.8039, 0.8078, 0.4510, 0.0000, 0.4784, 0.8588, 0.7569, 0.7020,\n",
            "         0.6706, 0.7176, 0.7686, 0.8000, 0.8235, 0.8353, 0.8118, 0.8275, 0.8235,\n",
            "         0.7843, 0.7686, 0.7608, 0.7490, 0.7647, 0.7490, 0.7765, 0.7529, 0.6902,\n",
            "         0.6118, 0.6549, 0.6941, 0.8235, 0.3608, 0.0000, 0.0000, 0.2902, 0.7412,\n",
            "         0.8314, 0.7490, 0.6863, 0.6745, 0.6863, 0.7098, 0.7255, 0.7373, 0.7412,\n",
            "         0.7373, 0.7569, 0.7765, 0.8000, 0.8196, 0.8235, 0.8235, 0.8275, 0.7373,\n",
            "         0.7373, 0.7608, 0.7529, 0.8471, 0.6667, 0.0000, 0.0078, 0.0000, 0.0000,\n",
            "         0.0000, 0.2588, 0.7843, 0.8706, 0.9294, 0.9373, 0.9490, 0.9647, 0.9529,\n",
            "         0.9569, 0.8667, 0.8627, 0.7569, 0.7490, 0.7020, 0.7137, 0.7137, 0.7098,\n",
            "         0.6902, 0.6510, 0.6588, 0.3882, 0.2275, 0.0000, 0.0000, 0.0000, 0.0000,\n",
            "         0.0000, 0.0000, 0.0000, 0.0000, 0.0000, 0.1569, 0.2392, 0.1725, 0.2824,\n",
            "         0.1608, 0.1373, 0.0000, 0.0000, 0.0000, 0.0000, 0.0000, 0.0000, 0.0000,\n",
            "         0.0000, 0.0000, 0.0000, 0.0000, 0.0000, 0.0000, 0.0000, 0.0000, 0.0000,\n",
            "         0.0000, 0.0000, 0.0000, 0.0000, 0.0000, 0.0000, 0.0000, 0.0000, 0.0000,\n",
            "         0.0000, 0.0000, 0.0000, 0.0000, 0.0000, 0.0000, 0.0000, 0.0000, 0.0000,\n",
            "         0.0000, 0.0000, 0.0000, 0.0000, 0.0000, 0.0000, 0.0000, 0.0000, 0.0000,\n",
            "         0.0000, 0.0000, 0.0000, 0.0000, 0.0000, 0.0000, 0.0000, 0.0000, 0.0000,\n",
            "         0.0000, 0.0000, 0.0000, 0.0000, 0.0000, 0.0000, 0.0000, 0.0000, 0.0000,\n",
            "         0.0000, 0.0000, 0.0000, 0.0000, 0.0000, 0.0000, 0.0000, 0.0000, 0.0000,\n",
            "         0.0000]])\n"
          ]
        }
      ],
      "source": [
        "trainData = torch.utils.data.DataLoader(trainMnist)\n",
        "testData = torch.utils.data.DataLoader(testMnist)\n",
        "\n",
        "for images, labels in trainData:\n",
        "    print(images.view(-1, 28*28))\n",
        "    break"
      ]
    },
    {
      "cell_type": "markdown",
      "source": [
        "Next show a image so we see it is correctly loaded"
      ],
      "metadata": {
        "id": "7HleLDDBTxHx"
      },
      "id": "7HleLDDBTxHx"
    },
    {
      "cell_type": "code",
      "execution_count": 4,
      "id": "a32336d8",
      "metadata": {
        "id": "a32336d8",
        "outputId": "d7334399-5d11-418b-f9a8-e75cd06876b3",
        "colab": {
          "base_uri": "https://localhost:8080/",
          "height": 265
        }
      },
      "outputs": [
        {
          "output_type": "display_data",
          "data": {
            "image/png": "[encoded data removed]",
            "text/plain": [
              "<Figure size 432x288 with 1 Axes>"
            ]
          },
          "metadata": {
            "needs_background": "light"
          }
        }
      ],
      "source": [
        "import matplotlib.pyplot as plt\n",
        "\n",
        "for images, labels in trainData:\n",
        "    plt.imshow(images[0][0])\n",
        "    break"
      ]
    },
    {
      "cell_type": "markdown",
      "source": [
        "Create a simple network with 28*28 input because a picture has 28*28 dimension and Output 10 because there are 10 possible targets"
      ],
      "metadata": {
        "id": "UujrtFSGT4Go"
      },
      "id": "UujrtFSGT4Go"
    },
    {
      "cell_type": "code",
      "execution_count": 5,
      "id": "f4e9e0d3",
      "metadata": {
        "id": "f4e9e0d3"
      },
      "outputs": [],
      "source": [
        "import torch.nn as nn\n",
        "import torch.nn.functional as F\n",
        "\n",
        "class Net(nn.Module):\n",
        "    def __init__(self):\n",
        "        super(Net, self).__init__()\n",
        "        self.layer1 = nn.Linear(28*28, 100)\n",
        "        self.layer2 = nn.Linear(100, 10)\n",
        "    \n",
        "    def forward(self, x):\n",
        "        x = x.view(-1, 28*28)\n",
        "        x = self.layer1(x)\n",
        "        x = F.relu(x)\n",
        "        output = self.layer2(x)\n",
        "\n",
        "        return output\n",
        "    \n"
      ]
    },
    {
      "cell_type": "code",
      "execution_count": 6,
      "id": "d1191386",
      "metadata": {
        "id": "d1191386"
      },
      "outputs": [],
      "source": [
        "model = Net()"
      ]
    },
    {
      "cell_type": "markdown",
      "source": [
        "Not trained the model it predicts a random value, in this case Nr. 3 "
      ],
      "metadata": {
        "id": "b-4rW1YjUKzf"
      },
      "id": "b-4rW1YjUKzf"
    },
    {
      "cell_type": "code",
      "execution_count": 9,
      "id": "ff696ee4",
      "metadata": {
        "id": "ff696ee4",
        "outputId": "60195ed8-ec69-4f0a-e28c-853dceacc3b8",
        "colab": {
          "base_uri": "https://localhost:8080/",
          "height": 299
        }
      },
      "outputs": [
        {
          "output_type": "stream",
          "name": "stdout",
          "text": [
            "tensor([[ 0.1445,  0.0339,  0.0432, -0.1068, -0.1523, -0.0092, -0.0353, -0.3057,\n",
            "         -0.0342, -0.2244]], grad_fn=<AddmmBackward0>)\n"
          ]
        },
        {
          "output_type": "display_data",
          "data": {
            "image/png": "[encoded data removed]",
            "text/plain": [
              "<Figure size 432x288 with 1 Axes>"
            ]
          },
          "metadata": {
            "needs_background": "light"
          }
        }
      ],
      "source": [
        "for images, labels in trainData:\n",
        "    result = model(images)\n",
        "    print(result)\n",
        "    plt.imshow(images[0][0])\n",
        "    break"
      ]
    },
    {
      "cell_type": "markdown",
      "source": [
        "use CrossEntroyLoss as loss function"
      ],
      "metadata": {
        "id": "geWdKLllUiQV"
      },
      "id": "geWdKLllUiQV"
    },
    {
      "cell_type": "code",
      "execution_count": 11,
      "id": "068b9d89",
      "metadata": {
        "id": "068b9d89"
      },
      "outputs": [],
      "source": [
        "import torch.optim as optim\n",
        "\n",
        "optimizer = optim.SGD(model.parameters(), lr=0.01)\n",
        "loss_fn = torch.nn.CrossEntropyLoss(reduction='sum')"
      ]
    },
    {
      "cell_type": "markdown",
      "source": [
        "Train the model, not using cuda because its not so hard to train"
      ],
      "metadata": {
        "id": "7UECgyp2UnXb"
      },
      "id": "7UECgyp2UnXb"
    },
    {
      "cell_type": "code",
      "execution_count": 13,
      "id": "7bbfafe5",
      "metadata": {
        "id": "7bbfafe5",
        "outputId": "02e8c9c1-84c3-471f-8b7b-bfa440b7ac1e",
        "colab": {
          "base_uri": "https://localhost:8080/"
        }
      },
      "outputs": [
        {
          "output_type": "stream",
          "name": "stdout",
          "text": [
            "0.43470991822260924\n",
            "0.382532599695737\n",
            "0.3540912133492548\n",
            "0.3338348722893999\n",
            "0.31837247110932415\n",
            "0.3039739598744933\n",
            "0.2921217043733823\n",
            "0.2823661327678023\n",
            "0.272790784073704\n",
            "0.264004329065465\n"
          ]
        }
      ],
      "source": [
        "for epoch in range(10):\n",
        "    loss_sum = 0\n",
        "    for images, labels in trainData:\n",
        "        \n",
        "        result = model(images)\n",
        "\n",
        "        loss = loss_fn(result, labels)\n",
        "        loss_sum += loss.item()\n",
        "        \n",
        "        optimizer.zero_grad()\n",
        "        loss.backward()\n",
        "        optimizer.step()\n",
        "    \n",
        "    print(loss_sum / len(trainData))"
      ]
    },
    {
      "cell_type": "markdown",
      "source": [
        ""
      ],
      "metadata": {
        "id": "-MMSQQBOaskH"
      },
      "id": "-MMSQQBOaskH"
    },
    {
      "cell_type": "code",
      "execution_count": 14,
      "id": "f0677203",
      "metadata": {
        "id": "f0677203",
        "outputId": "7a3472dd-b978-4b2a-d5e3-0ec038e2255e",
        "colab": {
          "base_uri": "https://localhost:8080/"
        }
      },
      "outputs": [
        {
          "output_type": "execute_result",
          "data": {
            "text/plain": [
              "10000"
            ]
          },
          "metadata": {},
          "execution_count": 14
        }
      ],
      "source": [
        "len(testData)"
      ]
    },
    {
      "cell_type": "markdown",
      "source": [
        "test the trained model"
      ],
      "metadata": {
        "id": "Aqubb6jeW3o5"
      },
      "id": "Aqubb6jeW3o5"
    },
    {
      "cell_type": "code",
      "execution_count": 32,
      "id": "7bdf0c80",
      "metadata": {
        "id": "7bdf0c80",
        "outputId": "78a7a60f-4852-40f7-eb74-5c0ec32b2b58",
        "colab": {
          "base_uri": "https://localhost:8080/"
        }
      },
      "outputs": [
        {
          "output_type": "stream",
          "name": "stdout",
          "text": [
            "correct:  8714  prdiction propability:  87.14\n"
          ]
        }
      ],
      "source": [
        "correct = 0\n",
        "\n",
        "for images, labels in testData:\n",
        "    result = model(images)\n",
        "\n",
        "    c = torch.eq(labels, torch.argmax(result));\n",
        "\n",
        "    if(c == True):\n",
        "      correct += 1\n",
        "\n",
        "print(\"correct: \", correct, \" prdiction propability: \", correct / len(testData) * 100)\n"
      ]
    },
    {
      "cell_type": "code",
      "source": [
        ""
      ],
      "metadata": {
        "id": "sSTUxgCLXfqB"
      },
      "id": "sSTUxgCLXfqB",
      "execution_count": null,
      "outputs": []
    }
  ],
  "metadata": {
    "kernelspec": {
      "display_name": "Python 3",
      "language": "python",
      "name": "python3"
    },
    "language_info": {
      "codemirror_mode": {
        "name": "ipython",
        "version": 3
      },
      "file_extension": ".py",
      "mimetype": "text/x-python",
      "name": "python",
      "nbconvert_exporter": "python",
      "pygments_lexer": "ipython3",
      "version": "3.7.10"
    },
    "colab": {
      "name": "mnist-fashion-pytorch.ipynb",
      "provenance": []
    },
    "widgets": {
      "application/vnd.jupyter.widget-state+json": {
        "08154ef5dd424793b8ace8e0905df9df": {
          "model_module": "@jupyter-widgets/controls",
          "model_name": "HBoxModel",
          "model_module_version": "1.5.0",
          "state": {
            "_view_name": "HBoxView",
            "_dom_classes": [],
            "_model_name": "HBoxModel",
            "_view_module": "@jupyter-widgets/controls",
            "_model_module_version": "1.5.0",
            "_view_count": null,
            "_view_module_version": "1.5.0",
            "box_style": "",
            "layout": "IPY_MODEL_04a06b5e916f427fb9e85ba40d700f9e",
            "_model_module": "@jupyter-widgets/controls",
            "children": [
              "IPY_MODEL_fc4afb8ab83a4431b1418b86a9ec318a",
              "IPY_MODEL_9f84e330a95d45b9bb1b5e19fbc758d3",
              "IPY_MODEL_def288affe504aadb4c4cbb7c8c3ed59"
            ]
          }
        },
        "04a06b5e916f427fb9e85ba40d700f9e": {
          "model_module": "@jupyter-widgets/base",
          "model_name": "LayoutModel",
          "model_module_version": "1.2.0",
          "state": {
            "_view_name": "LayoutView",
            "grid_template_rows": null,
            "right": null,
            "justify_content": null,
            "_view_module": "@jupyter-widgets/base",
            "overflow": null,
            "_model_module_version": "1.2.0",
            "_view_count": null,
            "flex_flow": null,
            "width": null,
            "min_width": null,
            "border": null,
            "align_items": null,
            "bottom": null,
            "_model_module": "@jupyter-widgets/base",
            "top": null,
            "grid_column": null,
            "overflow_y": null,
            "overflow_x": null,
            "grid_auto_flow": null,
            "grid_area": null,
            "grid_template_columns": null,
            "flex": null,
            "_model_name": "LayoutModel",
            "justify_items": null,
            "grid_row": null,
            "max_height": null,
            "align_content": null,
            "visibility": null,
            "align_self": null,
            "height": null,
            "min_height": null,
            "padding": null,
            "grid_auto_rows": null,
            "grid_gap": null,
            "max_width": null,
            "order": null,
            "_view_module_version": "1.2.0",
            "grid_template_areas": null,
            "object_position": null,
            "object_fit": null,
            "grid_auto_columns": null,
            "margin": null,
            "display": null,
            "left": null
          }
        },
        "fc4afb8ab83a4431b1418b86a9ec318a": {
          "model_module": "@jupyter-widgets/controls",
          "model_name": "HTMLModel",
          "model_module_version": "1.5.0",
          "state": {
            "_view_name": "HTMLView",
            "style": "IPY_MODEL_9d765abfb7b649cb9dd0cc6cc7ce8435",
            "_dom_classes": [],
            "description": "",
            "_model_name": "HTMLModel",
            "placeholder": "​",
            "_view_module": "@jupyter-widgets/controls",
            "_model_module_version": "1.5.0",
            "value": "",
            "_view_count": null,
            "_view_module_version": "1.5.0",
            "description_tooltip": null,
            "_model_module": "@jupyter-widgets/controls",
            "layout": "IPY_MODEL_fd112354aeab444d85ad5df9bf1c4c70"
          }
        },
        "9f84e330a95d45b9bb1b5e19fbc758d3": {
          "model_module": "@jupyter-widgets/controls",
          "model_name": "FloatProgressModel",
          "model_module_version": "1.5.0",
          "state": {
            "_view_name": "ProgressView",
            "style": "IPY_MODEL_fd8cf402d8fc48058f3c9a5bab3e1a55",
            "_dom_classes": [],
            "description": "",
            "_model_name": "FloatProgressModel",
            "bar_style": "success",
            "max": 5148,
            "_view_module": "@jupyter-widgets/controls",
            "_model_module_version": "1.5.0",
            "value": 5148,
            "_view_count": null,
            "_view_module_version": "1.5.0",
            "orientation": "horizontal",
            "min": 0,
            "description_tooltip": null,
            "_model_module": "@jupyter-widgets/controls",
            "layout": "IPY_MODEL_c952f485023c426d8bac5d5ad187fa82"
          }
        },
        "def288affe504aadb4c4cbb7c8c3ed59": {
          "model_module": "@jupyter-widgets/controls",
          "model_name": "HTMLModel",
          "model_module_version": "1.5.0",
          "state": {
            "_view_name": "HTMLView",
            "style": "IPY_MODEL_a3fdf04147334f4ebeb7332eab3101e0",
            "_dom_classes": [],
            "description": "",
            "_model_name": "HTMLModel",
            "placeholder": "​",
            "_view_module": "@jupyter-widgets/controls",
            "_model_module_version": "1.5.0",
            "value": " 6144/? [00:00&lt;00:00, 150976.07it/s]",
            "_view_count": null,
            "_view_module_version": "1.5.0",
            "description_tooltip": null,
            "_model_module": "@jupyter-widgets/controls",
            "layout": "IPY_MODEL_6764a0dc43e54045a7a273d0ade3c6f9"
          }
        },
        "9d765abfb7b649cb9dd0cc6cc7ce8435": {
          "model_module": "@jupyter-widgets/controls",
          "model_name": "DescriptionStyleModel",
          "model_module_version": "1.5.0",
          "state": {
            "_view_name": "StyleView",
            "_model_name": "DescriptionStyleModel",
            "description_width": "",
            "_view_module": "@jupyter-widgets/base",
            "_model_module_version": "1.5.0",
            "_view_count": null,
            "_view_module_version": "1.2.0",
            "_model_module": "@jupyter-widgets/controls"
          }
        },
        "fd112354aeab444d85ad5df9bf1c4c70": {
          "model_module": "@jupyter-widgets/base",
          "model_name": "LayoutModel",
          "model_module_version": "1.2.0",
          "state": {
            "_view_name": "LayoutView",
            "grid_template_rows": null,
            "right": null,
            "justify_content": null,
            "_view_module": "@jupyter-widgets/base",
            "overflow": null,
            "_model_module_version": "1.2.0",
            "_view_count": null,
            "flex_flow": null,
            "width": null,
            "min_width": null,
            "border": null,
            "align_items": null,
            "bottom": null,
            "_model_module": "@jupyter-widgets/base",
            "top": null,
            "grid_column": null,
            "overflow_y": null,
            "overflow_x": null,
            "grid_auto_flow": null,
            "grid_area": null,
            "grid_template_columns": null,
            "flex": null,
            "_model_name": "LayoutModel",
            "justify_items": null,
            "grid_row": null,
            "max_height": null,
            "align_content": null,
            "visibility": null,
            "align_self": null,
            "height": null,
            "min_height": null,
            "padding": null,
            "grid_auto_rows": null,
            "grid_gap": null,
            "max_width": null,
            "order": null,
            "_view_module_version": "1.2.0",
            "grid_template_areas": null,
            "object_position": null,
            "object_fit": null,
            "grid_auto_columns": null,
            "margin": null,
            "display": null,
            "left": null
          }
        },
        "fd8cf402d8fc48058f3c9a5bab3e1a55": {
          "model_module": "@jupyter-widgets/controls",
          "model_name": "ProgressStyleModel",
          "model_module_version": "1.5.0",
          "state": {
            "_view_name": "StyleView",
            "_model_name": "ProgressStyleModel",
            "description_width": "",
            "_view_module": "@jupyter-widgets/base",
            "_model_module_version": "1.5.0",
            "_view_count": null,
            "_view_module_version": "1.2.0",
            "bar_color": null,
            "_model_module": "@jupyter-widgets/controls"
          }
        },
        "c952f485023c426d8bac5d5ad187fa82": {
          "model_module": "@jupyter-widgets/base",
          "model_name": "LayoutModel",
          "model_module_version": "1.2.0",
          "state": {
            "_view_name": "LayoutView",
            "grid_template_rows": null,
            "right": null,
            "justify_content": null,
            "_view_module": "@jupyter-widgets/base",
            "overflow": null,
            "_model_module_version": "1.2.0",
            "_view_count": null,
            "flex_flow": null,
            "width": null,
            "min_width": null,
            "border": null,
            "align_items": null,
            "bottom": null,
            "_model_module": "@jupyter-widgets/base",
            "top": null,
            "grid_column": null,
            "overflow_y": null,
            "overflow_x": null,
            "grid_auto_flow": null,
            "grid_area": null,
            "grid_template_columns": null,
            "flex": null,
            "_model_name": "LayoutModel",
            "justify_items": null,
            "grid_row": null,
            "max_height": null,
            "align_content": null,
            "visibility": null,
            "align_self": null,
            "height": null,
            "min_height": null,
            "padding": null,
            "grid_auto_rows": null,
            "grid_gap": null,
            "max_width": null,
            "order": null,
            "_view_module_version": "1.2.0",
            "grid_template_areas": null,
            "object_position": null,
            "object_fit": null,
            "grid_auto_columns": null,
            "margin": null,
            "display": null,
            "left": null
          }
        },
        "a3fdf04147334f4ebeb7332eab3101e0": {
          "model_module": "@jupyter-widgets/controls",
          "model_name": "DescriptionStyleModel",
          "model_module_version": "1.5.0",
          "state": {
            "_view_name": "StyleView",
            "_model_name": "DescriptionStyleModel",
            "description_width": "",
            "_view_module": "@jupyter-widgets/base",
            "_model_module_version": "1.5.0",
            "_view_count": null,
            "_view_module_version": "1.2.0",
            "_model_module": "@jupyter-widgets/controls"
          }
        },
        "6764a0dc43e54045a7a273d0ade3c6f9": {
          "model_module": "@jupyter-widgets/base",
          "model_name": "LayoutModel",
          "model_module_version": "1.2.0",
          "state": {
            "_view_name": "LayoutView",
            "grid_template_rows": null,
            "right": null,
            "justify_content": null,
            "_view_module": "@jupyter-widgets/base",
            "overflow": null,
            "_model_module_version": "1.2.0",
            "_view_count": null,
            "flex_flow": null,
            "width": null,
            "min_width": null,
            "border": null,
            "align_items": null,
            "bottom": null,
            "_model_module": "@jupyter-widgets/base",
            "top": null,
            "grid_column": null,
            "overflow_y": null,
            "overflow_x": null,
            "grid_auto_flow": null,
            "grid_area": null,
            "grid_template_columns": null,
            "flex": null,
            "_model_name": "LayoutModel",
            "justify_items": null,
            "grid_row": null,
            "max_height": null,
            "align_content": null,
            "visibility": null,
            "align_self": null,
            "height": null,
            "min_height": null,
            "padding": null,
            "grid_auto_rows": null,
            "grid_gap": null,
            "max_width": null,
            "order": null,
            "_view_module_version": "1.2.0",
            "grid_template_areas": null,
            "object_position": null,
            "object_fit": null,
            "grid_auto_columns": null,
            "margin": null,
            "display": null,
            "left": null
          }
        }
      }
    }
  },
  "nbformat": 4,
  "nbformat_minor": 5
}